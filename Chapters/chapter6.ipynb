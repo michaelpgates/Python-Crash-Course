{
 "cells": [
  {
   "cell_type": "markdown",
   "metadata": {},
   "source": [
    "### Chapter 6: Dictionaries"
   ]
  },
  {
   "cell_type": "markdown",
   "metadata": {},
   "source": [
    "`a simple dictionary`"
   ]
  },
  {
   "cell_type": "code",
   "execution_count": 11,
   "metadata": {},
   "outputs": [
    {
     "name": "stdout",
     "output_type": "stream",
     "text": [
      "{'color': 'green', 'points': 5}\n",
      "5\n",
      "7\n",
      "{'color': 'green', 'points': 5, 'x_position': 0, 'y_position': 25}\n",
      "{'color': 'blue', 'points': 2}\n"
     ]
    }
   ],
   "source": [
    "alien_0 = {'color': 'green', 'points' : 5}\n",
    "alien_1 = {}\n",
    "\n",
    "print(alien_0)\n",
    "print(alien_0['points'])\n",
    "player_1_score = 2\n",
    "player_1_score = player_1_score + alien_0['points']\n",
    "print(player_1_score)\n",
    "\n",
    "alien_0['x_position'] = 0\n",
    "alien_0['y_position'] = 25\n",
    "alien_0['speed'] = 'medium'\n",
    "\n",
    "alien_1['color'] = 'blue'\n",
    "alien_1['points'] = 2\n",
    "\n",
    "print(alien_0)\n",
    "print(alien_1)"
   ]
  },
  {
   "cell_type": "markdown",
   "metadata": {},
   "source": [
    "`store clients login, first name and last name`"
   ]
  },
  {
   "cell_type": "code",
   "execution_count": 40,
   "metadata": {},
   "outputs": [
    {
     "name": "stdout",
     "output_type": "stream",
     "text": [
      "{'login': 'batman', 'first': 'bruce', 'last': 'wayne'}\n",
      "Key: Login Value: Batman\n",
      "Key: First Value: Bruce\n",
      "Key: Last Value: Wayne\n",
      "\n",
      "Login First Last \n",
      "Login First Last "
     ]
    }
   ],
   "source": [
    "user_0 = {\n",
    "    'login': 'batman',\n",
    "    'first': 'bruce',\n",
    "    'last': 'wayne'\n",
    "}\n",
    "print(f'{user_0}')\n",
    "for k,v in user_0.items():\n",
    "    print(f'Key: {k.title()} Value: {v.title()}')\n",
    "print('\\r') \n",
    "\n",
    "for key in user_0.keys():\n",
    "    print(key.title(), end = \" \")\n",
    "print('\\r')\n",
    "\n",
    "#or\n",
    "\n",
    "for key in user_0:\n",
    "    print(f'{key.title()}', end = \" \")"
   ]
  },
  {
   "cell_type": "markdown",
   "metadata": {},
   "source": [
    "` a list of dictionaries`"
   ]
  },
  {
   "cell_type": "code",
   "execution_count": 126,
   "metadata": {},
   "outputs": [
    {
     "name": "stdout",
     "output_type": "stream",
     "text": [
      "...spawning new aliens...86\n",
      "...\n",
      "survived spawns: 81\n",
      "{'color': 'orange', 'points': 15, 'speed': 'fast'}\n",
      "{'color': 'orange', 'points': 15, 'speed': 'moderate'}\n",
      "{'color': 'indigo', 'points': 15, 'speed': 'fast'}\n",
      "{'color': 'yellow', 'points': 15, 'speed': 'slow'}\n",
      "{'color': 'blue', 'points': 15, 'speed': 'slow'}\n"
     ]
    }
   ],
   "source": [
    "from random import randint\n",
    "alien_0 = {'color': 'green', 'points': '5'}\n",
    "alien_1 = {'color': 'yellow', 'points': '10'}\n",
    "alien_2 = {'color': 'red', 'points': '15'}\n",
    "aliens = [alien_0,alien_1,alien_2]\n",
    "\n",
    "#for alien in aliens:\n",
    "#    print(alien)\n",
    "\n",
    "#define alien attributes\n",
    "colors = ['red', 'orange', 'yellow', 'green', 'blue', 'indigo', 'violet']\n",
    "speed = ['slow', 'moderate', 'fast']\n",
    "\n",
    "alien_hive = []\n",
    "#print(colors[randint(0,len(colors)-1)])\n",
    "\n",
    "#populate 50-100 aliens\n",
    "for spawn in range(randint(50,100)):\n",
    "    new_alien = {\n",
    "        'color': colors[randint(0,len(colors)-1)],\n",
    "        'points' :  randint(0,15),\n",
    "        'speed': speed[randint(0,len(speed)-1)]\n",
    "    }\n",
    "    alien_hive.append(new_alien)\n",
    "print(f'...spawning new aliens...{len(alien_hive)}')\n",
    "\n",
    "print (\"...\")\n",
    "\n",
    "#remove all aliens with no points. 1 line comprehension commented out\n",
    "#alien_hive = [i for i in alien_hive if not (i['points'] == 0)]\n",
    "tempalien = []\n",
    "for i in range(len(alien_hive)):\n",
    "    if alien_hive[i]['points'] != 0:\n",
    "        tempalien.append(alien_hive[i])\n",
    "alien_hive = tempalien\n",
    "\n",
    "#sort aliens in descending order by points value\n",
    "alien_hive = sorted(alien_hive, key = lambda i: i['points'], reverse=True)\n",
    "\n",
    "#print first five sorted alients\n",
    "print(f'survived spawns: {len(alien_hive)}')\n",
    "\n",
    "for creature_report in alien_hive[:5]:\n",
    "    print(creature_report)\n"
   ]
  },
  {
   "cell_type": "markdown",
   "metadata": {},
   "source": [
    "`a dictionary with a list as a value`"
   ]
  },
  {
   "cell_type": "code",
   "execution_count": 183,
   "metadata": {},
   "outputs": [
    {
     "name": "stdout",
     "output_type": "stream",
     "text": [
      "91\n",
      "[('monster 1', ['indigo', 13, 'slow']), ('monster 2', ['blue', 9, 'slow']), ('monster 3', ['yellow', 15, 'fast']), ('monster 4', ['orange', 8, 'fast']), ('monster 5', ['blue', 7, 'moderate'])]\n",
      "slow\n"
     ]
    }
   ],
   "source": [
    "monster_camp = {}\n",
    "for birth in range(randint(50,100)):\n",
    "    monster_camp[f'monster {birth+1}'] = [colors[randint(0,len(colors)-1)],\n",
    "     randint(0,15), speed[randint(0,len(speed)-1)]]   \n",
    "\n",
    "print(len(monster_camp)) \n",
    "\n",
    "#examine first 5 keys and print an element within the multiple value list\n",
    "monster_items = monster_camp.items()\n",
    "first_5_monsters = list(monster_items)[:5]\n",
    "print(first_5_monsters)\n",
    "print (f'{first_5_monsters[0][1][2]}')\n",
    "\n",
    "#to do -- search keys for a specific element and delete key if \n",
    "#the paired multiple value list posseses an element\n",
    "\n"
   ]
  },
  {
   "cell_type": "markdown",
   "metadata": {},
   "source": [
    "`a dictionary in a dictionary`"
   ]
  },
  {
   "cell_type": "code",
   "execution_count": 208,
   "metadata": {},
   "outputs": [
    {
     "name": "stdout",
     "output_type": "stream",
     "text": [
      "Robot -  Titanium\n",
      "Human -  Large\n"
     ]
    }
   ],
   "source": [
    "entities = {\n",
    "    'robot' : {\n",
    "        'type' : 'titanium'\n",
    "    },\n",
    "    'human' : {\n",
    "        'type' : 'large'\n",
    "    }\n",
    "}\n",
    "\n",
    "for k,v in entities.items():\n",
    "    print(f'{k.title()} - ', end = \" \")\n",
    "    category = f\"{v['type']}\"\n",
    "    print(f'{category.title()}')\n",
    "\n",
    "#to do -- retrieve the first value in the nested dict w/o needing key name\n"
   ]
  }
 ],
 "metadata": {
  "interpreter": {
   "hash": "abb28fd1d7431144c73c9b6e36d3d8b55428cbac4336a7216572d74924205ca7"
  },
  "kernelspec": {
   "display_name": "Python 3.10.4 64-bit (windows store)",
   "language": "python",
   "name": "python3"
  },
  "language_info": {
   "codemirror_mode": {
    "name": "ipython",
    "version": 3
   },
   "file_extension": ".py",
   "mimetype": "text/x-python",
   "name": "python",
   "nbconvert_exporter": "python",
   "pygments_lexer": "ipython3",
   "version": "3.10.4"
  },
  "orig_nbformat": 4
 },
 "nbformat": 4,
 "nbformat_minor": 2
}
