{
 "cells": [
  {
   "cell_type": "markdown",
   "metadata": {},
   "source": [
    "### Chapter 4: Working With Lists"
   ]
  },
  {
   "cell_type": "markdown",
   "metadata": {},
   "source": [
    "`print elements in a list`"
   ]
  },
  {
   "cell_type": "code",
   "execution_count": 3,
   "metadata": {},
   "outputs": [
    {
     "name": "stdout",
     "output_type": "stream",
     "text": [
      "Alice, nice trick!\n",
      "David, nice trick!\n",
      "Carolina, nice trick!\n"
     ]
    }
   ],
   "source": [
    "magicians = ['alice', 'david', 'carolina']\n",
    "for magician in magicians:\n",
    "    print(f'{magician.title()}, nice trick!')"
   ]
  },
  {
   "cell_type": "markdown",
   "metadata": {},
   "source": [
    "`using range to print a list of numbers`"
   ]
  },
  {
   "cell_type": "code",
   "execution_count": 8,
   "metadata": {},
   "outputs": [
    {
     "name": "stdout",
     "output_type": "stream",
     "text": [
      "1\n",
      "2\n",
      "3\n",
      "4\n",
      "[1, 2, 3, 4, 5]\n",
      "[2, 4, 6, 8, 10]\n"
     ]
    }
   ],
   "source": [
    "for value in range(1,5):\n",
    "    print(value)\n",
    "numbers = list(range(1,6))\n",
    "print(numbers)\n",
    "even_numbers = list(range(2,11,2))\n",
    "print (even_numbers)"
   ]
  },
  {
   "cell_type": "markdown",
   "metadata": {},
   "source": [
    "`range function to print the squares of numbers in a list`"
   ]
  },
  {
   "cell_type": "code",
   "execution_count": 13,
   "metadata": {},
   "outputs": [
    {
     "name": "stdout",
     "output_type": "stream",
     "text": [
      "[1, 4, 9, 16, 25, 36, 49, 64, 81, 100]\n"
     ]
    }
   ],
   "source": [
    "squares = []\n",
    "for value in range(1,11):    \n",
    "    squares.append(value**2)\n",
    "print(squares)"
   ]
  },
  {
   "cell_type": "markdown",
   "metadata": {},
   "source": [
    "`demonstration of list comprehensions. start with the expression (do this action)`"
   ]
  },
  {
   "cell_type": "code",
   "execution_count": 20,
   "metadata": {},
   "outputs": [
    {
     "name": "stdout",
     "output_type": "stream",
     "text": [
      "[0, 1, 8, 27, 64, 125, 216, 343, 512, 729, 1000]\n",
      "[[1, 2, 'a'], [3, 4, 'b'], [5, 6, 'c'], [9, 8, 'd']]\n"
     ]
    }
   ],
   "source": [
    "cubes = [value**3 for value in range(11)]\n",
    "print(cubes)\n",
    "\n",
    "matrix = [[1,3,5,9], [2,4,6,8],['a','b','c','d']]\n",
    "transpose = [[row[i] for row in matrix] for i in range(len(matrix[0]))]\n",
    "print (transpose)\n"
   ]
  },
  {
   "cell_type": "markdown",
   "metadata": {},
   "source": [
    "`demonstraction of slicing a list format is [x:y:z] x is start y is stop but do not include and z is skip (by)`"
   ]
  },
  {
   "cell_type": "code",
   "execution_count": 24,
   "metadata": {},
   "outputs": [
    {
     "name": "stdout",
     "output_type": "stream",
     "text": [
      "['charles', 'martina', 'michael']\n",
      "['martina', 'michael', 'florence']\n",
      "['michael', 'florence', 'eli']\n",
      "Here are the first three players on my team: \n",
      "Charles\n",
      "Martina\n",
      "Michael\n"
     ]
    }
   ],
   "source": [
    "players = ['charles','martina', 'michael', 'florence', 'eli']\n",
    "print(players[0:3])\n",
    "print(players[1:4]) #start at 1 (not zero) and at and 4 (do not include)\n",
    "print (players[-3:]) #last three even if list grows\n",
    "\n",
    "print (\"Here are the first three players on my team: \")\n",
    "for player in players[:3]:\n",
    "    print(player.title())"
   ]
  },
  {
   "cell_type": "markdown",
   "metadata": {},
   "source": [
    "`copying a list -- use a splice`"
   ]
  },
  {
   "cell_type": "code",
   "execution_count": 47,
   "metadata": {},
   "outputs": [
    {
     "name": "stdout",
     "output_type": "stream",
     "text": [
      "his foods: ['Pizza', 'Hamburger', 'Wings']\n",
      "her foods: ['pizza', 'hamburger', 'wings']\n"
     ]
    }
   ],
   "source": [
    "his_foods = ['pizza','hamburger','wings']\n",
    "her_foods = his_foods[:]\n",
    "temp_foods = []\n",
    "for food in his_foods:\n",
    "    temp_foods.append(food.title())\n",
    "his_foods = temp_foods\n",
    "print(f'his foods: {his_foods}\\nher foods: {her_foods}')"
   ]
  },
  {
   "cell_type": "markdown",
   "metadata": {},
   "source": [
    "`defining a tuple - cannot change individual elements but you can redefine them`"
   ]
  },
  {
   "cell_type": "code",
   "execution_count": 56,
   "metadata": {},
   "outputs": [
    {
     "name": "stdout",
     "output_type": "stream",
     "text": [
      "(200, 50)\n",
      "200\n",
      "(250, 250)\n"
     ]
    }
   ],
   "source": [
    "dimensions = (200, 50)\n",
    "print(dimensions)\n",
    "print(dimensions[0])\n",
    "# dimensions[0] = 100  throws an error as tuple does not support assignment\n",
    "single_var = (3,)\n",
    "dimensions = (250,250)\n",
    "print(dimensions)\n"
   ]
  }
 ],
 "metadata": {
  "interpreter": {
   "hash": "abb28fd1d7431144c73c9b6e36d3d8b55428cbac4336a7216572d74924205ca7"
  },
  "kernelspec": {
   "display_name": "Python 3.10.4 64-bit (windows store)",
   "language": "python",
   "name": "python3"
  },
  "language_info": {
   "codemirror_mode": {
    "name": "ipython",
    "version": 3
   },
   "file_extension": ".py",
   "mimetype": "text/x-python",
   "name": "python",
   "nbconvert_exporter": "python",
   "pygments_lexer": "ipython3",
   "version": "3.10.4"
  },
  "orig_nbformat": 4
 },
 "nbformat": 4,
 "nbformat_minor": 2
}
