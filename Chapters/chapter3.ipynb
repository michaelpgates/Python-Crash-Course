{
 "cells": [
  {
   "cell_type": "markdown",
   "metadata": {},
   "source": [
    "### Chapter 3: Introducing Lists"
   ]
  },
  {
   "cell_type": "markdown",
   "metadata": {},
   "source": [
    "`bicycles.py -- square brackets indicate a list` pg 34"
   ]
  },
  {
   "cell_type": "code",
   "execution_count": 108,
   "metadata": {},
   "outputs": [
    {
     "name": "stdout",
     "output_type": "stream",
     "text": [
      "['trek', 'cannondale', 'redline', 'huffy']\n"
     ]
    }
   ],
   "source": [
    "bicycles = ['trek', 'cannondale', 'redline', 'huffy']\n",
    "print(bicycles)"
   ]
  },
  {
   "cell_type": "markdown",
   "metadata": {},
   "source": [
    "`Accessing elements in a list, accessing last element using [-1], and string method demonstration` pg 34"
   ]
  },
  {
   "cell_type": "code",
   "execution_count": 109,
   "metadata": {},
   "outputs": [
    {
     "name": "stdout",
     "output_type": "stream",
     "text": [
      "trek\n",
      "huffy\n",
      "Redline\n"
     ]
    }
   ],
   "source": [
    "print(bicycles[0])\n",
    "print(bicycles[-1])\n",
    "print(bicycles[2].title())"
   ]
  },
  {
   "cell_type": "markdown",
   "metadata": {},
   "source": [
    "`format a message then print the formatted message` pg 35"
   ]
  },
  {
   "cell_type": "code",
   "execution_count": 110,
   "metadata": {},
   "outputs": [
    {
     "name": "stdout",
     "output_type": "stream",
     "text": [
      "my first bicycle was a Huffy\n"
     ]
    }
   ],
   "source": [
    "message = f\"my first bicycle was a {bicycles[3].title()}\"\n",
    "print(message)"
   ]
  },
  {
   "cell_type": "code",
   "execution_count": 111,
   "metadata": {},
   "outputs": [],
   "source": [
    "motorcycles = ['honda','yamaha','suzuki']"
   ]
  },
  {
   "cell_type": "markdown",
   "metadata": {},
   "source": [
    "`changing, appending, inserting,and deleting an element` pg 37-39"
   ]
  },
  {
   "cell_type": "code",
   "execution_count": 112,
   "metadata": {},
   "outputs": [
    {
     "name": "stdout",
     "output_type": "stream",
     "text": [
      "['not_a_cycle', 'ducati', 'yamaha', 'suzuki', 'harley']\n",
      "['ducati', 'yamaha', 'suzuki', 'harley']\n"
     ]
    }
   ],
   "source": [
    "motorcycles[0] = 'ducati'\n",
    "motorcycles.append('harley')\n",
    "motorcycles.insert(0,'not_a_cycle')\n",
    "print(motorcycles)\n",
    "del motorcycles[0]\n",
    "print(motorcycles)\n",
    "\n"
   ]
  },
  {
   "cell_type": "markdown",
   "metadata": {},
   "source": [
    "`using pop. we use pop when we want to remove data to variable` pg 39-41"
   ]
  },
  {
   "cell_type": "code",
   "execution_count": 113,
   "metadata": {},
   "outputs": [
    {
     "name": "stdout",
     "output_type": "stream",
     "text": [
      "Not_A_Cycle\n"
     ]
    }
   ],
   "source": [
    "motorcycles.insert(0,'not_a_cycle')\n",
    "first_in_list = motorcycles.pop(0)\n",
    "print(first_in_list.title())"
   ]
  },
  {
   "cell_type": "markdown",
   "metadata": {},
   "source": [
    "`removing a list item using remove() method note: a remove function ` pg 41"
   ]
  },
  {
   "cell_type": "code",
   "execution_count": 114,
   "metadata": {},
   "outputs": [
    {
     "name": "stdout",
     "output_type": "stream",
     "text": [
      "['yamaha', 'suzuki', 'harley']\n",
      " A Ducati is too expensive for me.\n"
     ]
    }
   ],
   "source": [
    "too_expensive = 'ducati'\n",
    "motorcycles.remove(too_expensive)\n",
    "print(f'{motorcycles}\\n A {too_expensive.title()} is too expensive for me.')"
   ]
  },
  {
   "cell_type": "markdown",
   "metadata": {},
   "source": [
    "`Guest list exercise -- invite three people to dinner. send a message inviting them to dinner, individually. Assume one cancelled.\n",
    "Invite someone. Add someone to the beginning middle and end of the list. Resend the invitation.` pg 42"
   ]
  },
  {
   "cell_type": "code",
   "execution_count": 115,
   "metadata": {},
   "outputs": [
    {
     "name": "stdout",
     "output_type": "stream",
     "text": [
      "Tom, I would like to invite you    to dinner at 7:00 PM this Thursday.\n",
      "Harry, I would like to invite you    to dinner at 7:00 PM this Thursday.\n",
      "John, I would like to invite you    to dinner at 7:00 PM this Thursday.\n",
      "\n",
      "\n",
      "Sue, I would like to invite you to dinner at 7:00 PM    this Thursday.\n",
      "Ronald, I would like to invite you to dinner at 7:00 PM    this Thursday.\n",
      "Pam, I would like to invite you to dinner at 7:00 PM    this Thursday.\n",
      "Tom, I would like to invite you to dinner at 7:00 PM    this Thursday.\n",
      "John, I would like to invite you to dinner at 7:00 PM    this Thursday.\n"
     ]
    }
   ],
   "source": [
    "guest_list = ['tom','harry','john']\n",
    "for guest in guest_list:\n",
    "    print(f'{guest.title()}, I would like to invite you\\\n",
    "    to dinner at 7:00 PM this Thursday.')\n",
    "print('\\n')\n",
    "\n",
    "guest_list.remove('harry')\n",
    "guest_list.insert(0,'ronald')\n",
    "guest_list.insert(0,'sue')\n",
    "middle_of_guest_list = int (len(guest_list) / 2)\n",
    "guest_list.insert(middle_of_guest_list,'pam')\n",
    "\n",
    "for guest in guest_list:\n",
    "    print(f'{guest.title()}, I would like to invite you to dinner at 7:00 PM\\\n",
    "    this Thursday.')\n"
   ]
  },
  {
   "cell_type": "markdown",
   "metadata": {},
   "source": [
    "`Remove all but two entries using pop() method and print an apology everytime you use the method. Resend the invitations to the last two members of the guest list.\n",
    "use del command to erase the list. print the list to ensure it's empty ` pg 43"
   ]
  },
  {
   "cell_type": "code",
   "execution_count": 116,
   "metadata": {},
   "outputs": [
    {
     "name": "stdout",
     "output_type": "stream",
     "text": [
      "Sue, I am sorry to inform you that I can only invite two people.I will let you know soon if I can invite you.\n",
      "Ronald, I am sorry to inform you that I can only invite two people.I will let you know soon if I can invite you.\n",
      "Pam, I am sorry to inform you that I can only invite two people.I will let you know soon if I can invite you.\n",
      "Tom, I am sorry to inform you that I can only invite two people.I will let you know soon if I can invite you.\n",
      "John, I am sorry to inform you that I can only invite two people.I will let you know soon if I can invite you.\n",
      "\n",
      "\n",
      "John, I am sorry. Unfortunately, I cannot    bring you to the event. Kind Regards.\n",
      "Tom, I am sorry. Unfortunately, I cannot    bring you to the event. Kind Regards.\n",
      "Pam, I am sorry. Unfortunately, I cannot    bring you to the event. Kind Regards.\n",
      "\n",
      "\n",
      "Sue, I would like to invite you to dinner at 7:00 PM    this Thursday.\n",
      "Ronald, I would like to invite you to dinner at 7:00 PM    this Thursday.\n",
      "\n",
      "\n",
      "deleting sue\n",
      "deleting ronald\n",
      "current guest list: []\n"
     ]
    }
   ],
   "source": [
    "apology = 'I am sorry to inform you that I can only invite two people.\\\n",
    "I will let you know soon if I can invite you.'\n",
    "for guest in guest_list:\n",
    "    print(f'{guest.title()}, {apology}')\n",
    "\n",
    "print('\\n')\n",
    "\n",
    "\n",
    "for pop_count in range(len(guest_list)-2):    \n",
    "    removed_guest = guest_list.pop()\n",
    "    print(f'{removed_guest.title()}, I am sorry. Unfortunately, I cannot\\\n",
    "    bring you to the event. Kind Regards.')       \n",
    "\n",
    "print('\\n')\n",
    "\n",
    "for guest in guest_list:\n",
    "    print(f'{guest.title()}, I would like to invite you to dinner at 7:00 PM\\\n",
    "    this Thursday.')\n",
    "\n",
    "print('\\n')\n",
    "    \n",
    "while guest_list:\n",
    "    print(f'deleting {guest_list[0]}')    \n",
    "    del guest_list[0]\n",
    "\n",
    "print(f'current guest list: {guest_list}')\n",
    "\n"
   ]
  },
  {
   "cell_type": "markdown",
   "metadata": {},
   "source": [
    "`sorting a list alphabetically and reverse the list (not reverse sort)` pg 43"
   ]
  },
  {
   "cell_type": "code",
   "execution_count": 117,
   "metadata": {},
   "outputs": [
    {
     "name": "stdout",
     "output_type": "stream",
     "text": [
      "['audi', 'bmw', 'suburu', 'toyota']\n",
      "['toyota', 'suburu', 'bmw', 'audi']\n",
      "['audi', 'bmw', 'suburu', 'toyota']\n"
     ]
    }
   ],
   "source": [
    "cars = ['bmw', 'audi', 'toyota', 'suburu']\n",
    "cars.sort()\n",
    "print(cars)\n",
    "\n",
    "cars.sort(reverse=True)\n",
    "print(cars)\n",
    "cars.reverse()\n",
    "print(cars)"
   ]
  },
  {
   "cell_type": "markdown",
   "metadata": {},
   "source": [
    "`sorting a list temporarily using the sorted() function` pg 44"
   ]
  },
  {
   "cell_type": "code",
   "execution_count": 118,
   "metadata": {},
   "outputs": [
    {
     "name": "stdout",
     "output_type": "stream",
     "text": [
      "here is the original list\n",
      "['bmw', 'audi', 'toyota', 'suburu']\n",
      "here is a list of the sorted cars\n",
      " ['audi', 'bmw', 'suburu', 'toyota']\n",
      "back to the original list\n",
      "['bmw', 'audi', 'toyota', 'suburu']\n"
     ]
    }
   ],
   "source": [
    "cars = ['bmw', 'audi', 'toyota', 'suburu']\n",
    "print(f'here is the original list\\n{cars}')\n",
    "print(f'here is a list of the sorted cars\\n {sorted(cars)}')\n",
    "print(f'back to the original list\\n{cars}')"
   ]
  }
 ],
 "metadata": {
  "interpreter": {
   "hash": "abb28fd1d7431144c73c9b6e36d3d8b55428cbac4336a7216572d74924205ca7"
  },
  "kernelspec": {
   "display_name": "Python 3.10.4 64-bit (windows store)",
   "language": "python",
   "name": "python3"
  },
  "language_info": {
   "codemirror_mode": {
    "name": "ipython",
    "version": 3
   },
   "file_extension": ".py",
   "mimetype": "text/x-python",
   "name": "python",
   "nbconvert_exporter": "python",
   "pygments_lexer": "ipython3",
   "version": "3.10.4"
  },
  "orig_nbformat": 4
 },
 "nbformat": 4,
 "nbformat_minor": 2
}
